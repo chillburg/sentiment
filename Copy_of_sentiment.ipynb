{
  "nbformat": 4,
  "nbformat_minor": 0,
  "metadata": {
    "colab": {
      "name": "Copy of sentiment.ipynb",
      "provenance": [],
      "collapsed_sections": [],
      "mount_file_id": "https://github.com/chillburg/sentiment/blob/master/sentiment.ipynb",
      "authorship_tag": "ABX9TyNwQh39rkPz8wnMUVBUMWzz",
      "include_colab_link": true
    },
    "kernelspec": {
      "name": "python3",
      "display_name": "Python 3"
    }
  },
  "cells": [
    {
      "cell_type": "markdown",
      "metadata": {
        "id": "view-in-github",
        "colab_type": "text"
      },
      "source": [
        "<a href=\"https://colab.research.google.com/github/chillburg/sentiment/blob/master/Copy_of_sentiment.ipynb\" target=\"_parent\"><img src=\"https://colab.research.google.com/assets/colab-badge.svg\" alt=\"Open In Colab\"/></a>"
      ]
    },
    {
      "cell_type": "code",
      "metadata": {
        "id": "6LQw9ZGBWVGq",
        "colab_type": "code",
        "colab": {
          "base_uri": "https://localhost:8080/",
          "height": 35
        },
        "outputId": "67095aa5-9d7d-45d7-dc66-d5b5cfad7dc3"
      },
      "source": [
        "from time import time\n",
        "import pandas as pd\n",
        "import numpy as np\n",
        "from numpy import array\n",
        "import random\n",
        "import nltk\n",
        "\n",
        "from sklearn.linear_model import Perceptron\n",
        "from sklearn.metrics import accuracy_score\n",
        "from sklearn.preprocessing import StandardScaler, MinMaxScaler, LabelBinarizer\n",
        "from sklearn.model_selection import train_test_split\n",
        "from sklearn.feature_extraction.text import CountVectorizer\n",
        "from sklearn.tree import DecisionTreeClassifier\n",
        "from sklearn.utils import class_weight\n",
        "from sklearn.model_selection import train_test_split\n",
        "from sklearn.metrics import accuracy_score\n",
        "from sklearn.model_selection import train_test_split\n",
        "\n",
        "from keras.models import Sequential, Model, load_model\n",
        "from keras.layers.core import Dense, Activation, Flatten\n",
        "from keras.optimizers import Adam, RMSprop, Adadelta\n",
        "from keras.utils import normalize\n",
        "from keras.preprocessing import sequence\n",
        "from keras.callbacks import EarlyStopping, ModelCheckpoint, LearningRateScheduler, TensorBoard\n",
        "from keras.layers import Dropout, Conv2D, MaxPooling2D, Input, Dense, Flatten, concatenate, GlobalMaxPool2D, Lambda\n",
        "from keras.layers import GlobalAveragePooling2D, Reshape, add, LSTM, TimeDistributed\n",
        "from keras.layers.normalization import BatchNormalization\n",
        "from keras.preprocessing.text import one_hot\n",
        "from keras.preprocessing.sequence import pad_sequences\n",
        "from keras.layers import Embedding, Lambda\n",
        "import keras.backend as K\n",
        "\n",
        "\n",
        "# from google.colab import drive\n",
        "# drive.mount('/content/drive')"
      ],
      "execution_count": null,
      "outputs": [
        {
          "output_type": "stream",
          "text": [
            "Using TensorFlow backend.\n"
          ],
          "name": "stderr"
        }
      ]
    },
    {
      "cell_type": "markdown",
      "metadata": {
        "id": "Ob0tOl47FekK",
        "colab_type": "text"
      },
      "source": [
        "## Preparing our data"
      ]
    },
    {
      "cell_type": "code",
      "metadata": {
        "id": "68PoQ6hHWVJ0",
        "colab_type": "code",
        "colab": {
          "base_uri": "https://localhost:8080/",
          "height": 313
        },
        "outputId": "f5908d5e-d797-478b-d3bb-576035d08796"
      },
      "source": [
        "df = pd.read_csv('/content/drive/My Drive/BALTA/Sentiment/NPS.csv', dtype=str, encoding=\"ISO-8859-13\")\n",
        "df.shape\n",
        "df.head()"
      ],
      "execution_count": null,
      "outputs": [
        {
          "output_type": "execute_result",
          "data": {
            "text/html": [
              "<div>\n",
              "<style scoped>\n",
              "    .dataframe tbody tr th:only-of-type {\n",
              "        vertical-align: middle;\n",
              "    }\n",
              "\n",
              "    .dataframe tbody tr th {\n",
              "        vertical-align: top;\n",
              "    }\n",
              "\n",
              "    .dataframe thead th {\n",
              "        text-align: right;\n",
              "    }\n",
              "</style>\n",
              "<table border=\"1\" class=\"dataframe\">\n",
              "  <thead>\n",
              "    <tr style=\"text-align: right;\">\n",
              "      <th></th>\n",
              "      <th>SEQ_NO</th>\n",
              "      <th>STATUS</th>\n",
              "      <th>STATUS_NAME</th>\n",
              "      <th>EVENT_TYPE</th>\n",
              "      <th>PROCESS_ERROR</th>\n",
              "      <th>SURVEY_EXE_DATE</th>\n",
              "      <th>SURVEY_TYPE</th>\n",
              "      <th>SURVEY_KEY</th>\n",
              "      <th>EMAIL_TO</th>\n",
              "      <th>ID_NO</th>\n",
              "      <th>LANGUAGE</th>\n",
              "      <th>POLICY_NO</th>\n",
              "      <th>POLICY_SEQ_NO</th>\n",
              "      <th>POLICY_YEAR</th>\n",
              "      <th>CLA_CASE_NO</th>\n",
              "      <th>CLA_SUBCASE_NO</th>\n",
              "      <th>CREATED_DATE</th>\n",
              "      <th>TIMESTAMP</th>\n",
              "      <th>res_STATUS</th>\n",
              "      <th>res_STATUS_NAME</th>\n",
              "      <th>res_FEEDBACK_ID</th>\n",
              "      <th>CREATED_AT</th>\n",
              "      <th>COMPLETED_AT</th>\n",
              "      <th>SCORE1</th>\n",
              "      <th>SCORE2</th>\n",
              "      <th>TEXT1</th>\n",
              "      <th>TEXT2</th>\n",
              "      <th>TEXT3</th>\n",
              "      <th>TEXT4</th>\n",
              "    </tr>\n",
              "  </thead>\n",
              "  <tbody>\n",
              "    <tr>\n",
              "      <th>0</th>\n",
              "      <td>296</td>\n",
              "      <td>S</td>\n",
              "      <td>Processed, request sent</td>\n",
              "      <td>N</td>\n",
              "      <td>NaN</td>\n",
              "      <td>27AUG2019:14:36:17</td>\n",
              "      <td>RETAIL_KAC_CC</td>\n",
              "      <td>jkMKKWUFgysGLFsH</td>\n",
              "      <td>vilis.krumins@gmail.com</td>\n",
              "      <td>11948340</td>\n",
              "      <td>LV</td>\n",
              "      <td>591288369</td>\n",
              "      <td>89489544</td>\n",
              "      <td>4</td>\n",
              "      <td>NaN</td>\n",
              "      <td>NaN</td>\n",
              "      <td>25JUL2019:04:00:15</td>\n",
              "      <td>27AUG2019:14:36:17</td>\n",
              "      <td>NaN</td>\n",
              "      <td>NO RESPONSE</td>\n",
              "      <td>NaN</td>\n",
              "      <td>NaN</td>\n",
              "      <td>NaN</td>\n",
              "      <td>NaN</td>\n",
              "      <td>NaN</td>\n",
              "      <td>NaN</td>\n",
              "      <td>NaN</td>\n",
              "      <td>NaN</td>\n",
              "      <td>NaN</td>\n",
              "    </tr>\n",
              "    <tr>\n",
              "      <th>1</th>\n",
              "      <td>301</td>\n",
              "      <td>S</td>\n",
              "      <td>Processed, request sent</td>\n",
              "      <td>N</td>\n",
              "      <td>NaN</td>\n",
              "      <td>27AUG2019:14:36:17</td>\n",
              "      <td>RETAIL_KAC_CC</td>\n",
              "      <td>nPSjOJZKIMTwkePm</td>\n",
              "      <td>gin488@inbox.lv</td>\n",
              "      <td>11947344</td>\n",
              "      <td>LV</td>\n",
              "      <td>648881169</td>\n",
              "      <td>89468715</td>\n",
              "      <td>1</td>\n",
              "      <td>NaN</td>\n",
              "      <td>NaN</td>\n",
              "      <td>25JUL2019:04:00:15</td>\n",
              "      <td>27AUG2019:14:36:17</td>\n",
              "      <td>NaN</td>\n",
              "      <td>NO RESPONSE</td>\n",
              "      <td>NaN</td>\n",
              "      <td>NaN</td>\n",
              "      <td>NaN</td>\n",
              "      <td>NaN</td>\n",
              "      <td>NaN</td>\n",
              "      <td>NaN</td>\n",
              "      <td>NaN</td>\n",
              "      <td>NaN</td>\n",
              "      <td>NaN</td>\n",
              "    </tr>\n",
              "    <tr>\n",
              "      <th>2</th>\n",
              "      <td>309</td>\n",
              "      <td>S</td>\n",
              "      <td>Processed, request sent</td>\n",
              "      <td>N</td>\n",
              "      <td>NaN</td>\n",
              "      <td>27AUG2019:14:36:18</td>\n",
              "      <td>RETAIL_KAC_CC</td>\n",
              "      <td>cCdjYKupwAmbfTiC</td>\n",
              "      <td>lebedevainga@inbox.lv</td>\n",
              "      <td>705241</td>\n",
              "      <td>LV</td>\n",
              "      <td>544963686</td>\n",
              "      <td>89489432</td>\n",
              "      <td>6</td>\n",
              "      <td>NaN</td>\n",
              "      <td>NaN</td>\n",
              "      <td>25JUL2019:04:00:15</td>\n",
              "      <td>27AUG2019:14:36:18</td>\n",
              "      <td>NaN</td>\n",
              "      <td>NO RESPONSE</td>\n",
              "      <td>NaN</td>\n",
              "      <td>NaN</td>\n",
              "      <td>NaN</td>\n",
              "      <td>NaN</td>\n",
              "      <td>NaN</td>\n",
              "      <td>NaN</td>\n",
              "      <td>NaN</td>\n",
              "      <td>NaN</td>\n",
              "      <td>NaN</td>\n",
              "    </tr>\n",
              "    <tr>\n",
              "      <th>3</th>\n",
              "      <td>318</td>\n",
              "      <td>S</td>\n",
              "      <td>Processed, request sent</td>\n",
              "      <td>N</td>\n",
              "      <td>NaN</td>\n",
              "      <td>27AUG2019:14:36:18</td>\n",
              "      <td>RETAIL_KAC_CC</td>\n",
              "      <td>dKzAODqrxgHuBjsJ</td>\n",
              "      <td>signe.rubene@gmail.com</td>\n",
              "      <td>15880597</td>\n",
              "      <td>LV</td>\n",
              "      <td>676915303</td>\n",
              "      <td>89485402</td>\n",
              "      <td>1</td>\n",
              "      <td>NaN</td>\n",
              "      <td>NaN</td>\n",
              "      <td>25JUL2019:04:00:15</td>\n",
              "      <td>27AUG2019:14:36:18</td>\n",
              "      <td>NaN</td>\n",
              "      <td>NO RESPONSE</td>\n",
              "      <td>NaN</td>\n",
              "      <td>NaN</td>\n",
              "      <td>NaN</td>\n",
              "      <td>NaN</td>\n",
              "      <td>NaN</td>\n",
              "      <td>NaN</td>\n",
              "      <td>NaN</td>\n",
              "      <td>NaN</td>\n",
              "      <td>NaN</td>\n",
              "    </tr>\n",
              "    <tr>\n",
              "      <th>4</th>\n",
              "      <td>324</td>\n",
              "      <td>S</td>\n",
              "      <td>Processed, request sent</td>\n",
              "      <td>N</td>\n",
              "      <td>NaN</td>\n",
              "      <td>27AUG2019:14:36:18</td>\n",
              "      <td>RETAIL_KAC_CC</td>\n",
              "      <td>AVqkPnwjQEKtdINl</td>\n",
              "      <td>riiita@inbox.lv</td>\n",
              "      <td>651869</td>\n",
              "      <td>LV</td>\n",
              "      <td>589934636</td>\n",
              "      <td>89533964</td>\n",
              "      <td>4</td>\n",
              "      <td>NaN</td>\n",
              "      <td>NaN</td>\n",
              "      <td>25JUL2019:04:00:15</td>\n",
              "      <td>27AUG2019:14:36:18</td>\n",
              "      <td>NaN</td>\n",
              "      <td>NO RESPONSE</td>\n",
              "      <td>NaN</td>\n",
              "      <td>NaN</td>\n",
              "      <td>NaN</td>\n",
              "      <td>NaN</td>\n",
              "      <td>NaN</td>\n",
              "      <td>NaN</td>\n",
              "      <td>NaN</td>\n",
              "      <td>NaN</td>\n",
              "      <td>NaN</td>\n",
              "    </tr>\n",
              "  </tbody>\n",
              "</table>\n",
              "</div>"
            ],
            "text/plain": [
              "  SEQ_NO STATUS              STATUS_NAME EVENT_TYPE  ... TEXT1 TEXT2 TEXT3 TEXT4\n",
              "0    296      S  Processed, request sent          N  ...   NaN   NaN   NaN   NaN\n",
              "1    301      S  Processed, request sent          N  ...   NaN   NaN   NaN   NaN\n",
              "2    309      S  Processed, request sent          N  ...   NaN   NaN   NaN   NaN\n",
              "3    318      S  Processed, request sent          N  ...   NaN   NaN   NaN   NaN\n",
              "4    324      S  Processed, request sent          N  ...   NaN   NaN   NaN   NaN\n",
              "\n",
              "[5 rows x 29 columns]"
            ]
          },
          "metadata": {
            "tags": []
          },
          "execution_count": 116
        }
      ]
    },
    {
      "cell_type": "code",
      "metadata": {
        "id": "cxTFJMO8XES5",
        "colab_type": "code",
        "colab": {
          "base_uri": "https://localhost:8080/",
          "height": 470
        },
        "outputId": "7531a42c-de19-4e79-b6b3-1cee8fadfec8"
      },
      "source": [
        "df = df.loc[df[\"res_STATUS_NAME\"] != \"NO RESPONSE\", :]#.loc[:, ['STATUS','STATUS_NAME','EVENT_TYPE']]\n",
        "print(df.shape)\n",
        "df.head()"
      ],
      "execution_count": null,
      "outputs": [
        {
          "output_type": "stream",
          "text": [
            "(20180, 29)\n"
          ],
          "name": "stdout"
        },
        {
          "output_type": "execute_result",
          "data": {
            "text/html": [
              "<div>\n",
              "<style scoped>\n",
              "    .dataframe tbody tr th:only-of-type {\n",
              "        vertical-align: middle;\n",
              "    }\n",
              "\n",
              "    .dataframe tbody tr th {\n",
              "        vertical-align: top;\n",
              "    }\n",
              "\n",
              "    .dataframe thead th {\n",
              "        text-align: right;\n",
              "    }\n",
              "</style>\n",
              "<table border=\"1\" class=\"dataframe\">\n",
              "  <thead>\n",
              "    <tr style=\"text-align: right;\">\n",
              "      <th></th>\n",
              "      <th>SEQ_NO</th>\n",
              "      <th>STATUS</th>\n",
              "      <th>STATUS_NAME</th>\n",
              "      <th>EVENT_TYPE</th>\n",
              "      <th>PROCESS_ERROR</th>\n",
              "      <th>SURVEY_EXE_DATE</th>\n",
              "      <th>SURVEY_TYPE</th>\n",
              "      <th>SURVEY_KEY</th>\n",
              "      <th>EMAIL_TO</th>\n",
              "      <th>ID_NO</th>\n",
              "      <th>LANGUAGE</th>\n",
              "      <th>POLICY_NO</th>\n",
              "      <th>POLICY_SEQ_NO</th>\n",
              "      <th>POLICY_YEAR</th>\n",
              "      <th>CLA_CASE_NO</th>\n",
              "      <th>CLA_SUBCASE_NO</th>\n",
              "      <th>CREATED_DATE</th>\n",
              "      <th>TIMESTAMP</th>\n",
              "      <th>res_STATUS</th>\n",
              "      <th>res_STATUS_NAME</th>\n",
              "      <th>res_FEEDBACK_ID</th>\n",
              "      <th>CREATED_AT</th>\n",
              "      <th>COMPLETED_AT</th>\n",
              "      <th>SCORE1</th>\n",
              "      <th>SCORE2</th>\n",
              "      <th>TEXT1</th>\n",
              "      <th>TEXT2</th>\n",
              "      <th>TEXT3</th>\n",
              "      <th>TEXT4</th>\n",
              "    </tr>\n",
              "  </thead>\n",
              "  <tbody>\n",
              "    <tr>\n",
              "      <th>5</th>\n",
              "      <td>331</td>\n",
              "      <td>S</td>\n",
              "      <td>Processed, request sent</td>\n",
              "      <td>N</td>\n",
              "      <td>NaN</td>\n",
              "      <td>27AUG2019:14:36:18</td>\n",
              "      <td>RETAIL_KAC_CC</td>\n",
              "      <td>XTxyhGdZikeZumyw</td>\n",
              "      <td>dimiva67@mail.ru</td>\n",
              "      <td>1053930</td>\n",
              "      <td>LV</td>\n",
              "      <td>545859467</td>\n",
              "      <td>89533926</td>\n",
              "      <td>6</td>\n",
              "      <td>NaN</td>\n",
              "      <td>NaN</td>\n",
              "      <td>25JUL2019:04:00:15</td>\n",
              "      <td>27AUG2019:14:36:18</td>\n",
              "      <td>N</td>\n",
              "      <td>New</td>\n",
              "      <td>396760850</td>\n",
              "      <td>27AUG2019:20:04:01</td>\n",
              "      <td>27AUG2019:20:04:27</td>\n",
              "      <td>10</td>\n",
              "      <td>NaN</td>\n",
              "      <td>NaN</td>\n",
              "      <td>NaN</td>\n",
              "      <td>NaN</td>\n",
              "      <td>NaN</td>\n",
              "    </tr>\n",
              "    <tr>\n",
              "      <th>11</th>\n",
              "      <td>2</td>\n",
              "      <td>S</td>\n",
              "      <td>Processed, request sent</td>\n",
              "      <td>L</td>\n",
              "      <td>NaN</td>\n",
              "      <td>27AUG2019:14:36:18</td>\n",
              "      <td>RETAIL_CHURN</td>\n",
              "      <td>pXIkIhfdxVFhbShw</td>\n",
              "      <td>aldispr@inbox.lv</td>\n",
              "      <td>765244</td>\n",
              "      <td>LV</td>\n",
              "      <td>601100975</td>\n",
              "      <td>89533758</td>\n",
              "      <td>3</td>\n",
              "      <td>NaN</td>\n",
              "      <td>NaN</td>\n",
              "      <td>25JUL2019:01:04:22</td>\n",
              "      <td>27AUG2019:14:36:18</td>\n",
              "      <td>N</td>\n",
              "      <td>New</td>\n",
              "      <td>398764145</td>\n",
              "      <td>06SEP2019:21:00:06</td>\n",
              "      <td>06SEP2019:21:01:54</td>\n",
              "      <td>7</td>\n",
              "      <td>NaN</td>\n",
              "      <td>NaN</td>\n",
              "      <td>Pagaidām apmierināts ar sadarbību.</td>\n",
              "      <td>Finanses...Budžeta samazināšanās...</td>\n",
              "      <td>NaN</td>\n",
              "    </tr>\n",
              "    <tr>\n",
              "      <th>20</th>\n",
              "      <td>42</td>\n",
              "      <td>S</td>\n",
              "      <td>Processed, request sent</td>\n",
              "      <td>L</td>\n",
              "      <td>NaN</td>\n",
              "      <td>27AUG2019:14:36:20</td>\n",
              "      <td>RETAIL_CHURN</td>\n",
              "      <td>biVgAReMcEfUUvGJ</td>\n",
              "      <td>kiosks1@inbox.lv</td>\n",
              "      <td>56244220</td>\n",
              "      <td>LV</td>\n",
              "      <td>649083541</td>\n",
              "      <td>89534173</td>\n",
              "      <td>2</td>\n",
              "      <td>NaN</td>\n",
              "      <td>NaN</td>\n",
              "      <td>25JUL2019:01:35:40</td>\n",
              "      <td>27AUG2019:14:36:20</td>\n",
              "      <td>N</td>\n",
              "      <td>New</td>\n",
              "      <td>396725225</td>\n",
              "      <td>27AUG2019:16:56:01</td>\n",
              "      <td>27AUG2019:16:57:40</td>\n",
              "      <td>5</td>\n",
              "      <td>NaN</td>\n",
              "      <td>NAV TICIBA APDR KOMP.</td>\n",
              "      <td>NaN</td>\n",
              "      <td>veca masina</td>\n",
              "      <td>NaN</td>\n",
              "    </tr>\n",
              "    <tr>\n",
              "      <th>29</th>\n",
              "      <td>164</td>\n",
              "      <td>S</td>\n",
              "      <td>Processed, request sent</td>\n",
              "      <td>L</td>\n",
              "      <td>NaN</td>\n",
              "      <td>27AUG2019:14:36:23</td>\n",
              "      <td>RETAIL_CHURN</td>\n",
              "      <td>cQdYCXkdRfyIlENk</td>\n",
              "      <td>aivakleikalide@inbox.lv</td>\n",
              "      <td>16105309</td>\n",
              "      <td>LV</td>\n",
              "      <td>654501300</td>\n",
              "      <td>89534441</td>\n",
              "      <td>4</td>\n",
              "      <td>NaN</td>\n",
              "      <td>NaN</td>\n",
              "      <td>25JUL2019:01:42:16</td>\n",
              "      <td>27AUG2019:14:36:23</td>\n",
              "      <td>N</td>\n",
              "      <td>New</td>\n",
              "      <td>396715330</td>\n",
              "      <td>27AUG2019:16:03:24</td>\n",
              "      <td>27AUG2019:16:06:02</td>\n",
              "      <td>6</td>\n",
              "      <td>NaN</td>\n",
              "      <td>Uzlabot komunikāciju. Ja sola,ka noskaidros un...</td>\n",
              "      <td>NaN</td>\n",
              "      <td>Jo man netika atsūtīts atjaunošanas  piedāvājums</td>\n",
              "      <td>NaN</td>\n",
              "    </tr>\n",
              "    <tr>\n",
              "      <th>33</th>\n",
              "      <td>220</td>\n",
              "      <td>S</td>\n",
              "      <td>Processed, request sent</td>\n",
              "      <td>N</td>\n",
              "      <td>NaN</td>\n",
              "      <td>27AUG2019:14:36:24</td>\n",
              "      <td>RETAIL_KAC_CC</td>\n",
              "      <td>xsBDkntBCCcxCTqM</td>\n",
              "      <td>lidija.silina@balta.lv</td>\n",
              "      <td>14028</td>\n",
              "      <td>LV</td>\n",
              "      <td>623198529</td>\n",
              "      <td>84576579</td>\n",
              "      <td>2</td>\n",
              "      <td>NaN</td>\n",
              "      <td>NaN</td>\n",
              "      <td>25JUL2019:04:00:15</td>\n",
              "      <td>27AUG2019:14:36:24</td>\n",
              "      <td>N</td>\n",
              "      <td>New</td>\n",
              "      <td>396701390</td>\n",
              "      <td>27AUG2019:14:40:12</td>\n",
              "      <td>27AUG2019:14:45:44</td>\n",
              "      <td>9</td>\n",
              "      <td>8</td>\n",
              "      <td>NaN</td>\n",
              "      <td>Uzskatu , ka BALTA tiešām ir godīgākais apdroš...</td>\n",
              "      <td>Uzlabot darbu atlīdzībās. Klienti saka, ka pie...</td>\n",
              "      <td>NaN</td>\n",
              "    </tr>\n",
              "  </tbody>\n",
              "</table>\n",
              "</div>"
            ],
            "text/plain": [
              "   SEQ_NO STATUS  ...                                              TEXT3 TEXT4\n",
              "5     331      S  ...                                                NaN   NaN\n",
              "11      2      S  ...                Finanses...Budžeta samazināšanās...   NaN\n",
              "20     42      S  ...                                        veca masina   NaN\n",
              "29    164      S  ...   Jo man netika atsūtīts atjaunošanas  piedāvājums   NaN\n",
              "33    220      S  ...  Uzlabot darbu atlīdzībās. Klienti saka, ka pie...   NaN\n",
              "\n",
              "[5 rows x 29 columns]"
            ]
          },
          "metadata": {
            "tags": []
          },
          "execution_count": 117
        }
      ]
    },
    {
      "cell_type": "code",
      "metadata": {
        "id": "TmEkBkllE8sF",
        "colab_type": "code",
        "colab": {}
      },
      "source": [
        "# removing columns with no unique values\n",
        "df2 = df[[c for c\n",
        "        in list(df)\n",
        "        if len(df[c].unique()) > 1]]"
      ],
      "execution_count": null,
      "outputs": []
    },
    {
      "cell_type": "code",
      "metadata": {
        "id": "Um9r66InDk8n",
        "colab_type": "code",
        "colab": {
          "base_uri": "https://localhost:8080/",
          "height": 213
        },
        "outputId": "b9f5438a-a8a7-44e8-b5fe-5d4acc240a8b"
      },
      "source": [
        "print(df2.shape)\n",
        "df2.describe()"
      ],
      "execution_count": null,
      "outputs": [
        {
          "output_type": "stream",
          "text": [
            "(20180, 21)\n"
          ],
          "name": "stdout"
        },
        {
          "output_type": "execute_result",
          "data": {
            "text/html": [
              "<div>\n",
              "<style scoped>\n",
              "    .dataframe tbody tr th:only-of-type {\n",
              "        vertical-align: middle;\n",
              "    }\n",
              "\n",
              "    .dataframe tbody tr th {\n",
              "        vertical-align: top;\n",
              "    }\n",
              "\n",
              "    .dataframe thead th {\n",
              "        text-align: right;\n",
              "    }\n",
              "</style>\n",
              "<table border=\"1\" class=\"dataframe\">\n",
              "  <thead>\n",
              "    <tr style=\"text-align: right;\">\n",
              "      <th></th>\n",
              "      <th>SEQ_NO</th>\n",
              "      <th>EVENT_TYPE</th>\n",
              "      <th>SURVEY_EXE_DATE</th>\n",
              "      <th>SURVEY_TYPE</th>\n",
              "      <th>SURVEY_KEY</th>\n",
              "      <th>EMAIL_TO</th>\n",
              "      <th>ID_NO</th>\n",
              "      <th>POLICY_NO</th>\n",
              "      <th>POLICY_SEQ_NO</th>\n",
              "      <th>POLICY_YEAR</th>\n",
              "      <th>CREATED_DATE</th>\n",
              "      <th>TIMESTAMP</th>\n",
              "      <th>res_FEEDBACK_ID</th>\n",
              "      <th>CREATED_AT</th>\n",
              "      <th>COMPLETED_AT</th>\n",
              "      <th>SCORE1</th>\n",
              "      <th>SCORE2</th>\n",
              "      <th>TEXT1</th>\n",
              "      <th>TEXT2</th>\n",
              "      <th>TEXT3</th>\n",
              "      <th>TEXT4</th>\n",
              "    </tr>\n",
              "  </thead>\n",
              "  <tbody>\n",
              "    <tr>\n",
              "      <th>count</th>\n",
              "      <td>20180</td>\n",
              "      <td>20180</td>\n",
              "      <td>20180</td>\n",
              "      <td>20180</td>\n",
              "      <td>20180</td>\n",
              "      <td>20180</td>\n",
              "      <td>20180</td>\n",
              "      <td>20180</td>\n",
              "      <td>20180</td>\n",
              "      <td>20180</td>\n",
              "      <td>20180</td>\n",
              "      <td>20180</td>\n",
              "      <td>20180</td>\n",
              "      <td>20180</td>\n",
              "      <td>20180</td>\n",
              "      <td>20180</td>\n",
              "      <td>19272</td>\n",
              "      <td>1116</td>\n",
              "      <td>16783</td>\n",
              "      <td>3600</td>\n",
              "      <td>1491</td>\n",
              "    </tr>\n",
              "    <tr>\n",
              "      <th>unique</th>\n",
              "      <td>19773</td>\n",
              "      <td>2</td>\n",
              "      <td>7876</td>\n",
              "      <td>4</td>\n",
              "      <td>19773</td>\n",
              "      <td>17810</td>\n",
              "      <td>18462</td>\n",
              "      <td>19537</td>\n",
              "      <td>19744</td>\n",
              "      <td>18</td>\n",
              "      <td>3710</td>\n",
              "      <td>7877</td>\n",
              "      <td>20180</td>\n",
              "      <td>20041</td>\n",
              "      <td>20056</td>\n",
              "      <td>11</td>\n",
              "      <td>11</td>\n",
              "      <td>988</td>\n",
              "      <td>13631</td>\n",
              "      <td>2771</td>\n",
              "      <td>1138</td>\n",
              "    </tr>\n",
              "    <tr>\n",
              "      <th>top</th>\n",
              "      <td>330110</td>\n",
              "      <td>N</td>\n",
              "      <td>05SEP2019:17:21:14</td>\n",
              "      <td>RETAIL_KAC_CC</td>\n",
              "      <td>xmzcBjhirWPztDPe</td>\n",
              "      <td>info@rdbrokers.lv</td>\n",
              "      <td>10092949</td>\n",
              "      <td>685737035</td>\n",
              "      <td>91257890</td>\n",
              "      <td>1</td>\n",
              "      <td>26SEP2019:10:19:17</td>\n",
              "      <td>05SEP2019:17:21:14</td>\n",
              "      <td>439566722</td>\n",
              "      <td>05SEP2019:17:26:38</td>\n",
              "      <td>05SEP2019:17:25:49</td>\n",
              "      <td>10</td>\n",
              "      <td>10</td>\n",
              "      <td>nezinu</td>\n",
              "      <td>Cena</td>\n",
              "      <td>-</td>\n",
              "      <td>Nį</td>\n",
              "    </tr>\n",
              "    <tr>\n",
              "      <th>freq</th>\n",
              "      <td>11</td>\n",
              "      <td>19483</td>\n",
              "      <td>13</td>\n",
              "      <td>13235</td>\n",
              "      <td>11</td>\n",
              "      <td>44</td>\n",
              "      <td>11</td>\n",
              "      <td>11</td>\n",
              "      <td>11</td>\n",
              "      <td>13999</td>\n",
              "      <td>197</td>\n",
              "      <td>14</td>\n",
              "      <td>1</td>\n",
              "      <td>4</td>\n",
              "      <td>3</td>\n",
              "      <td>7871</td>\n",
              "      <td>9226</td>\n",
              "      <td>19</td>\n",
              "      <td>292</td>\n",
              "      <td>74</td>\n",
              "      <td>64</td>\n",
              "    </tr>\n",
              "  </tbody>\n",
              "</table>\n",
              "</div>"
            ],
            "text/plain": [
              "        SEQ_NO EVENT_TYPE     SURVEY_EXE_DATE  ...  TEXT2 TEXT3 TEXT4\n",
              "count    20180      20180               20180  ...  16783  3600  1491\n",
              "unique   19773          2                7876  ...  13631  2771  1138\n",
              "top     330110          N  05SEP2019:17:21:14  ...   Cena     -    Nį\n",
              "freq        11      19483                  13  ...    292    74    64\n",
              "\n",
              "[4 rows x 21 columns]"
            ]
          },
          "metadata": {
            "tags": []
          },
          "execution_count": 36
        }
      ]
    },
    {
      "cell_type": "code",
      "metadata": {
        "id": "QKBjRTSUFWhG",
        "colab_type": "code",
        "colab": {
          "base_uri": "https://localhost:8080/",
          "height": 435
        },
        "outputId": "99628807-f62d-4eaa-d5bb-458e2a6edd14"
      },
      "source": [
        "df2.head()"
      ],
      "execution_count": null,
      "outputs": [
        {
          "output_type": "execute_result",
          "data": {
            "text/html": [
              "<div>\n",
              "<style scoped>\n",
              "    .dataframe tbody tr th:only-of-type {\n",
              "        vertical-align: middle;\n",
              "    }\n",
              "\n",
              "    .dataframe tbody tr th {\n",
              "        vertical-align: top;\n",
              "    }\n",
              "\n",
              "    .dataframe thead th {\n",
              "        text-align: right;\n",
              "    }\n",
              "</style>\n",
              "<table border=\"1\" class=\"dataframe\">\n",
              "  <thead>\n",
              "    <tr style=\"text-align: right;\">\n",
              "      <th></th>\n",
              "      <th>SEQ_NO</th>\n",
              "      <th>EVENT_TYPE</th>\n",
              "      <th>SURVEY_EXE_DATE</th>\n",
              "      <th>SURVEY_TYPE</th>\n",
              "      <th>SURVEY_KEY</th>\n",
              "      <th>EMAIL_TO</th>\n",
              "      <th>ID_NO</th>\n",
              "      <th>POLICY_NO</th>\n",
              "      <th>POLICY_SEQ_NO</th>\n",
              "      <th>POLICY_YEAR</th>\n",
              "      <th>CREATED_DATE</th>\n",
              "      <th>TIMESTAMP</th>\n",
              "      <th>res_FEEDBACK_ID</th>\n",
              "      <th>CREATED_AT</th>\n",
              "      <th>COMPLETED_AT</th>\n",
              "      <th>SCORE1</th>\n",
              "      <th>SCORE2</th>\n",
              "      <th>TEXT1</th>\n",
              "      <th>TEXT2</th>\n",
              "      <th>TEXT3</th>\n",
              "      <th>TEXT4</th>\n",
              "    </tr>\n",
              "  </thead>\n",
              "  <tbody>\n",
              "    <tr>\n",
              "      <th>5</th>\n",
              "      <td>331</td>\n",
              "      <td>N</td>\n",
              "      <td>27AUG2019:14:36:18</td>\n",
              "      <td>RETAIL_KAC_CC</td>\n",
              "      <td>XTxyhGdZikeZumyw</td>\n",
              "      <td>dimiva67@mail.ru</td>\n",
              "      <td>1053930</td>\n",
              "      <td>545859467</td>\n",
              "      <td>89533926</td>\n",
              "      <td>6</td>\n",
              "      <td>25JUL2019:04:00:15</td>\n",
              "      <td>27AUG2019:14:36:18</td>\n",
              "      <td>396760850</td>\n",
              "      <td>27AUG2019:20:04:01</td>\n",
              "      <td>27AUG2019:20:04:27</td>\n",
              "      <td>10</td>\n",
              "      <td>NaN</td>\n",
              "      <td>NaN</td>\n",
              "      <td>NaN</td>\n",
              "      <td>NaN</td>\n",
              "      <td>NaN</td>\n",
              "    </tr>\n",
              "    <tr>\n",
              "      <th>11</th>\n",
              "      <td>2</td>\n",
              "      <td>L</td>\n",
              "      <td>27AUG2019:14:36:18</td>\n",
              "      <td>RETAIL_CHURN</td>\n",
              "      <td>pXIkIhfdxVFhbShw</td>\n",
              "      <td>aldispr@inbox.lv</td>\n",
              "      <td>765244</td>\n",
              "      <td>601100975</td>\n",
              "      <td>89533758</td>\n",
              "      <td>3</td>\n",
              "      <td>25JUL2019:01:04:22</td>\n",
              "      <td>27AUG2019:14:36:18</td>\n",
              "      <td>398764145</td>\n",
              "      <td>06SEP2019:21:00:06</td>\n",
              "      <td>06SEP2019:21:01:54</td>\n",
              "      <td>7</td>\n",
              "      <td>NaN</td>\n",
              "      <td>NaN</td>\n",
              "      <td>Pagaidâm apmierinâts ar sadarbîbu.</td>\n",
              "      <td>Finanses...Budūeta samazinâđanâs...</td>\n",
              "      <td>NaN</td>\n",
              "    </tr>\n",
              "    <tr>\n",
              "      <th>20</th>\n",
              "      <td>42</td>\n",
              "      <td>L</td>\n",
              "      <td>27AUG2019:14:36:20</td>\n",
              "      <td>RETAIL_CHURN</td>\n",
              "      <td>biVgAReMcEfUUvGJ</td>\n",
              "      <td>kiosks1@inbox.lv</td>\n",
              "      <td>56244220</td>\n",
              "      <td>649083541</td>\n",
              "      <td>89534173</td>\n",
              "      <td>2</td>\n",
              "      <td>25JUL2019:01:35:40</td>\n",
              "      <td>27AUG2019:14:36:20</td>\n",
              "      <td>396725225</td>\n",
              "      <td>27AUG2019:16:56:01</td>\n",
              "      <td>27AUG2019:16:57:40</td>\n",
              "      <td>5</td>\n",
              "      <td>NaN</td>\n",
              "      <td>NAV TICIBA APDR KOMP.</td>\n",
              "      <td>NaN</td>\n",
              "      <td>veca masina</td>\n",
              "      <td>NaN</td>\n",
              "    </tr>\n",
              "    <tr>\n",
              "      <th>29</th>\n",
              "      <td>164</td>\n",
              "      <td>L</td>\n",
              "      <td>27AUG2019:14:36:23</td>\n",
              "      <td>RETAIL_CHURN</td>\n",
              "      <td>cQdYCXkdRfyIlENk</td>\n",
              "      <td>aivakleikalide@inbox.lv</td>\n",
              "      <td>16105309</td>\n",
              "      <td>654501300</td>\n",
              "      <td>89534441</td>\n",
              "      <td>4</td>\n",
              "      <td>25JUL2019:01:42:16</td>\n",
              "      <td>27AUG2019:14:36:23</td>\n",
              "      <td>396715330</td>\n",
              "      <td>27AUG2019:16:03:24</td>\n",
              "      <td>27AUG2019:16:06:02</td>\n",
              "      <td>6</td>\n",
              "      <td>NaN</td>\n",
              "      <td>Uzlabot komunikâciju. Ja sola,ka noskaidros un...</td>\n",
              "      <td>NaN</td>\n",
              "      <td>Jo man netika atsûtîts atjaunođanas  piedâvâjums</td>\n",
              "      <td>NaN</td>\n",
              "    </tr>\n",
              "    <tr>\n",
              "      <th>33</th>\n",
              "      <td>220</td>\n",
              "      <td>N</td>\n",
              "      <td>27AUG2019:14:36:24</td>\n",
              "      <td>RETAIL_KAC_CC</td>\n",
              "      <td>xsBDkntBCCcxCTqM</td>\n",
              "      <td>lidija.silina@balta.lv</td>\n",
              "      <td>14028</td>\n",
              "      <td>623198529</td>\n",
              "      <td>84576579</td>\n",
              "      <td>2</td>\n",
              "      <td>25JUL2019:04:00:15</td>\n",
              "      <td>27AUG2019:14:36:24</td>\n",
              "      <td>396701390</td>\n",
              "      <td>27AUG2019:14:40:12</td>\n",
              "      <td>27AUG2019:14:45:44</td>\n",
              "      <td>9</td>\n",
              "      <td>8</td>\n",
              "      <td>NaN</td>\n",
              "      <td>Uzskatu , ka BALTA tieđâm ir godîgâkais apdrođ...</td>\n",
              "      <td>Uzlabot darbu atlîdzîbâs. Klienti saka, ka pie...</td>\n",
              "      <td>NaN</td>\n",
              "    </tr>\n",
              "  </tbody>\n",
              "</table>\n",
              "</div>"
            ],
            "text/plain": [
              "   SEQ_NO EVENT_TYPE  ...                                              TEXT3 TEXT4\n",
              "5     331          N  ...                                                NaN   NaN\n",
              "11      2          L  ...                Finanses...Budūeta samazinâđanâs...   NaN\n",
              "20     42          L  ...                                        veca masina   NaN\n",
              "29    164          L  ...   Jo man netika atsûtîts atjaunođanas  piedâvâjums   NaN\n",
              "33    220          N  ...  Uzlabot darbu atlîdzîbâs. Klienti saka, ka pie...   NaN\n",
              "\n",
              "[5 rows x 21 columns]"
            ]
          },
          "metadata": {
            "tags": []
          },
          "execution_count": 38
        }
      ]
    },
    {
      "cell_type": "markdown",
      "metadata": {
        "id": "mgrJFTKCFX8U",
        "colab_type": "text"
      },
      "source": [
        "## Preparing tweet data"
      ]
    },
    {
      "cell_type": "code",
      "metadata": {
        "id": "Asmd6hSoXEVo",
        "colab_type": "code",
        "colab": {
          "base_uri": "https://localhost:8080/",
          "height": 225
        },
        "outputId": "017b8484-04a8-4077-a2b3-f1f1c140f9ad"
      },
      "source": [
        "# corp_tweet = pd.read_json(\"/content/drive/My Drive/BALTA/Sentiment/tweet_corpus_edited.json\", orient=\"str\", encoding=\"ISO-8859-13\").loc[:,[\"text\",'sentiment'] ]\n",
        "# print(corp_tweet.shape)\n",
        "# corp_tweet.head()\n",
        "\n",
        "\n",
        "# corp_tweet = pd.read_csv('/content/drive/My Drive/BALTA/Sentiment/tweet_corpus_edited.csv', dtype=str, encoding=\"ISO-8859-13\")\n",
        "corp_tweet = pd.read_excel('/content/drive/My Drive/BALTA/Sentiment/tweet_corpus_edited.xlsx', encoding=\"ISO-8859-13\")\n",
        "# corp_tweet = pd.read_csv('/content/drive/My Drive/BALTA/Sentiment/tweets in NPS file.csv', dtype=str, encoding=\"ISO-8859-13\", sep = \",\")\n",
        "corp_tweet.shape\n",
        "corp_tweet.head()\n",
        "\n",
        "corp_tweet = corp_tweet.loc[:, ['text','sentiment']]\n",
        "print(corp_tweet.shape)\n",
        "corp_tweet.head()"
      ],
      "execution_count": null,
      "outputs": [
        {
          "output_type": "stream",
          "text": [
            "(1176, 2)\n"
          ],
          "name": "stdout"
        },
        {
          "output_type": "execute_result",
          "data": {
            "text/html": [
              "<div>\n",
              "<style scoped>\n",
              "    .dataframe tbody tr th:only-of-type {\n",
              "        vertical-align: middle;\n",
              "    }\n",
              "\n",
              "    .dataframe tbody tr th {\n",
              "        vertical-align: top;\n",
              "    }\n",
              "\n",
              "    .dataframe thead th {\n",
              "        text-align: right;\n",
              "    }\n",
              "</style>\n",
              "<table border=\"1\" class=\"dataframe\">\n",
              "  <thead>\n",
              "    <tr style=\"text-align: right;\">\n",
              "      <th></th>\n",
              "      <th>text</th>\n",
              "      <th>sentiment</th>\n",
              "    </tr>\n",
              "  </thead>\n",
              "  <tbody>\n",
              "    <tr>\n",
              "      <th>0</th>\n",
              "      <td>Nu gan laiks gulēt (@ Laines mītne) http://t.c...</td>\n",
              "      <td>NEU</td>\n",
              "    </tr>\n",
              "    <tr>\n",
              "      <th>1</th>\n",
              "      <td>Ja jau neko, nekas neizpalīdz, tad jau jādodas...</td>\n",
              "      <td>NEG</td>\n",
              "    </tr>\n",
              "    <tr>\n",
              "      <th>2</th>\n",
              "      <td>es esmu tik šausmīgi dusmīga uz to ka savus mā...</td>\n",
              "      <td>NEG</td>\n",
              "    </tr>\n",
              "    <tr>\n",
              "      <th>3</th>\n",
              "      <td>šovakar cirks ar sotiem bija rēcīgs ;D:D diemž...</td>\n",
              "      <td>POZ</td>\n",
              "    </tr>\n",
              "    <tr>\n",
              "      <th>4</th>\n",
              "      <td>ļoti bēdīgi palika .</td>\n",
              "      <td>NEG</td>\n",
              "    </tr>\n",
              "  </tbody>\n",
              "</table>\n",
              "</div>"
            ],
            "text/plain": [
              "                                                text sentiment\n",
              "0  Nu gan laiks gulēt (@ Laines mītne) http://t.c...       NEU\n",
              "1  Ja jau neko, nekas neizpalīdz, tad jau jādodas...       NEG\n",
              "2  es esmu tik šausmīgi dusmīga uz to ka savus mā...       NEG\n",
              "3  šovakar cirks ar sotiem bija rēcīgs ;D:D diemž...       POZ\n",
              "4                               ļoti bēdīgi palika .       NEG"
            ]
          },
          "metadata": {
            "tags": []
          },
          "execution_count": 148
        }
      ]
    },
    {
      "cell_type": "markdown",
      "metadata": {
        "id": "ylH9cDa4Rduk",
        "colab_type": "text"
      },
      "source": [
        "### Removing special characters"
      ]
    },
    {
      "cell_type": "code",
      "metadata": {
        "id": "Th5DdGHdoPrf",
        "colab_type": "code",
        "colab": {}
      },
      "source": [
        "from textblob import TextBlob"
      ],
      "execution_count": null,
      "outputs": []
    },
    {
      "cell_type": "code",
      "metadata": {
        "id": "fKTpPEdS25jt",
        "colab_type": "code",
        "colab": {
          "base_uri": "https://localhost:8080/",
          "height": 36
        },
        "outputId": "fe3d315b-e7e6-4ff4-cf43-7e1ba0542ff6"
      },
      "source": [
        "def clean_tweet(tweet): \n",
        "        ''' \n",
        "        Utility function to clean tweet text by removing links, special characters \n",
        "        using simple regex statements. \n",
        "        '''\n",
        "        return ' '.join(re.sub(\"(@[A-Za-z0-9]+)|([^0-9A-Za-z \\t])|(\\w+:\\/\\/\\S+)\", \" \", tweet).split()) "
      ],
      "execution_count": null,
      "outputs": [
        {
          "output_type": "execute_result",
          "data": {
            "application/vnd.google.colaboratory.intrinsic": {
              "type": "string"
            },
            "text/plain": [
              "'x one two'"
            ]
          },
          "metadata": {
            "tags": []
          },
          "execution_count": 142
        }
      ]
    },
    {
      "cell_type": "code",
      "metadata": {
        "id": "TtBg0wCf3xbV",
        "colab_type": "code",
        "colab": {
          "base_uri": "https://localhost:8080/",
          "height": 206
        },
        "outputId": "34980606-d2fd-4863-d9b8-4f240c3d0f3c"
      },
      "source": [
        "corp_tweet_cl = corp_tweet.copy()\n",
        "corp_tweet_cl.head()"
      ],
      "execution_count": null,
      "outputs": [
        {
          "output_type": "execute_result",
          "data": {
            "text/html": [
              "<div>\n",
              "<style scoped>\n",
              "    .dataframe tbody tr th:only-of-type {\n",
              "        vertical-align: middle;\n",
              "    }\n",
              "\n",
              "    .dataframe tbody tr th {\n",
              "        vertical-align: top;\n",
              "    }\n",
              "\n",
              "    .dataframe thead th {\n",
              "        text-align: right;\n",
              "    }\n",
              "</style>\n",
              "<table border=\"1\" class=\"dataframe\">\n",
              "  <thead>\n",
              "    <tr style=\"text-align: right;\">\n",
              "      <th></th>\n",
              "      <th>text</th>\n",
              "      <th>sentiment</th>\n",
              "    </tr>\n",
              "  </thead>\n",
              "  <tbody>\n",
              "    <tr>\n",
              "      <th>0</th>\n",
              "      <td>Nu gan laiks gulēt (@ Laines mītne) http://t.c...</td>\n",
              "      <td>NEU</td>\n",
              "    </tr>\n",
              "    <tr>\n",
              "      <th>1</th>\n",
              "      <td>Ja jau neko, nekas neizpalīdz, tad jau jādodas...</td>\n",
              "      <td>NEG</td>\n",
              "    </tr>\n",
              "    <tr>\n",
              "      <th>2</th>\n",
              "      <td>es esmu tik šausmīgi dusmīga uz to ka savus mā...</td>\n",
              "      <td>NEG</td>\n",
              "    </tr>\n",
              "    <tr>\n",
              "      <th>3</th>\n",
              "      <td>šovakar cirks ar sotiem bija rēcīgs ;D:D diemž...</td>\n",
              "      <td>POZ</td>\n",
              "    </tr>\n",
              "    <tr>\n",
              "      <th>4</th>\n",
              "      <td>ļoti bēdīgi palika .</td>\n",
              "      <td>NEG</td>\n",
              "    </tr>\n",
              "  </tbody>\n",
              "</table>\n",
              "</div>"
            ],
            "text/plain": [
              "                                                text sentiment\n",
              "0  Nu gan laiks gulēt (@ Laines mītne) http://t.c...       NEU\n",
              "1  Ja jau neko, nekas neizpalīdz, tad jau jādodas...       NEG\n",
              "2  es esmu tik šausmīgi dusmīga uz to ka savus mā...       NEG\n",
              "3  šovakar cirks ar sotiem bija rēcīgs ;D:D diemž...       POZ\n",
              "4                               ļoti bēdīgi palika .       NEG"
            ]
          },
          "metadata": {
            "tags": []
          },
          "execution_count": 154
        }
      ]
    },
    {
      "cell_type": "code",
      "metadata": {
        "id": "a09BxVR_3zXP",
        "colab_type": "code",
        "colab": {
          "base_uri": "https://localhost:8080/",
          "height": 36
        },
        "outputId": "d86bd3b7-0b7b-4def-f9e5-74215d3617cd"
      },
      "source": [
        "clean_tweet(i[1])"
      ],
      "execution_count": null,
      "outputs": [
        {
          "output_type": "execute_result",
          "data": {
            "application/vnd.google.colaboratory.intrinsic": {
              "type": "string"
            },
            "text/plain": [
              "'Man uzbr k'"
            ]
          },
          "metadata": {
            "tags": []
          },
          "execution_count": 158
        }
      ]
    },
    {
      "cell_type": "code",
      "metadata": {
        "id": "ZO23jSpBoPuP",
        "colab_type": "code",
        "colab": {
          "base_uri": "https://localhost:8080/",
          "height": 206
        },
        "outputId": "85ca0af7-9032-419f-b7cf-8a3d19b05733"
      },
      "source": [
        "\n",
        "for i in enumerate(corp_tweet.iloc[:,0]):\n",
        "    corp_tweet_cl.iloc[i[0], 0] = clean_tweet(i[1])\n",
        "corp_tweet_cl.head()"
      ],
      "execution_count": null,
      "outputs": [
        {
          "output_type": "execute_result",
          "data": {
            "text/html": [
              "<div>\n",
              "<style scoped>\n",
              "    .dataframe tbody tr th:only-of-type {\n",
              "        vertical-align: middle;\n",
              "    }\n",
              "\n",
              "    .dataframe tbody tr th {\n",
              "        vertical-align: top;\n",
              "    }\n",
              "\n",
              "    .dataframe thead th {\n",
              "        text-align: right;\n",
              "    }\n",
              "</style>\n",
              "<table border=\"1\" class=\"dataframe\">\n",
              "  <thead>\n",
              "    <tr style=\"text-align: right;\">\n",
              "      <th></th>\n",
              "      <th>text</th>\n",
              "      <th>sentiment</th>\n",
              "    </tr>\n",
              "  </thead>\n",
              "  <tbody>\n",
              "    <tr>\n",
              "      <th>0</th>\n",
              "      <td>Nu gan laiks gul t Laines m tne</td>\n",
              "      <td>NEU</td>\n",
              "    </tr>\n",
              "    <tr>\n",
              "      <th>1</th>\n",
              "      <td>Ja jau neko nekas neizpal dz tad jau j dodas m...</td>\n",
              "      <td>NEG</td>\n",
              "    </tr>\n",
              "    <tr>\n",
              "      <th>2</th>\n",
              "      <td>es esmu tik ausm gi dusm ga uz to ka savus m j...</td>\n",
              "      <td>NEG</td>\n",
              "    </tr>\n",
              "    <tr>\n",
              "      <th>3</th>\n",
              "      <td>ovakar cirks ar sotiem bija r c gs D D diem el...</td>\n",
              "      <td>POZ</td>\n",
              "    </tr>\n",
              "    <tr>\n",
              "      <th>4</th>\n",
              "      <td>oti b d gi palika</td>\n",
              "      <td>NEG</td>\n",
              "    </tr>\n",
              "  </tbody>\n",
              "</table>\n",
              "</div>"
            ],
            "text/plain": [
              "                                                text sentiment\n",
              "0                    Nu gan laiks gul t Laines m tne       NEU\n",
              "1  Ja jau neko nekas neizpal dz tad jau j dodas m...       NEG\n",
              "2  es esmu tik ausm gi dusm ga uz to ka savus m j...       NEG\n",
              "3  ovakar cirks ar sotiem bija r c gs D D diem el...       POZ\n",
              "4                                  oti b d gi palika       NEG"
            ]
          },
          "metadata": {
            "tags": []
          },
          "execution_count": 159
        }
      ]
    },
    {
      "cell_type": "code",
      "metadata": {
        "id": "t7GDbkWroPxh",
        "colab_type": "code",
        "colab": {}
      },
      "source": [
        ""
      ],
      "execution_count": null,
      "outputs": []
    },
    {
      "cell_type": "code",
      "metadata": {
        "id": "xtCVbyW7oP0P",
        "colab_type": "code",
        "colab": {}
      },
      "source": [
        ""
      ],
      "execution_count": null,
      "outputs": []
    },
    {
      "cell_type": "code",
      "metadata": {
        "id": "vAxL5pG2SW7c",
        "colab_type": "code",
        "colab": {
          "base_uri": "https://localhost:8080/",
          "height": 356
        },
        "outputId": "1e7ef626-d5df-47c0-8781-8414999da1d1"
      },
      "source": [
        "import re\n",
        "string = corp_tweet.loc[0,:] #\"aaa\\aaa+a.aa\"\n",
        "cleanString = re.sub('\\W+','', string )\n",
        "cleanString"
      ],
      "execution_count": null,
      "outputs": [
        {
          "output_type": "error",
          "ename": "TypeError",
          "evalue": "ignored",
          "traceback": [
            "\u001b[0;31m---------------------------------------------------------------------------\u001b[0m",
            "\u001b[0;31mTypeError\u001b[0m                                 Traceback (most recent call last)",
            "\u001b[0;32m<ipython-input-53-c7d6e0708612>\u001b[0m in \u001b[0;36m<module>\u001b[0;34m()\u001b[0m\n\u001b[1;32m      1\u001b[0m \u001b[0;32mimport\u001b[0m \u001b[0mre\u001b[0m\u001b[0;34m\u001b[0m\u001b[0;34m\u001b[0m\u001b[0m\n\u001b[1;32m      2\u001b[0m \u001b[0mstring\u001b[0m \u001b[0;34m=\u001b[0m \u001b[0mcorp_tweet\u001b[0m\u001b[0;34m.\u001b[0m\u001b[0mloc\u001b[0m\u001b[0;34m[\u001b[0m\u001b[0;36m0\u001b[0m\u001b[0;34m,\u001b[0m\u001b[0;34m:\u001b[0m\u001b[0;34m]\u001b[0m \u001b[0;31m#\"aaa\\aaa+a.aa\"\u001b[0m\u001b[0;34m\u001b[0m\u001b[0;34m\u001b[0m\u001b[0m\n\u001b[0;32m----> 3\u001b[0;31m \u001b[0mcleanString\u001b[0m \u001b[0;34m=\u001b[0m \u001b[0mre\u001b[0m\u001b[0;34m.\u001b[0m\u001b[0msub\u001b[0m\u001b[0;34m(\u001b[0m\u001b[0;34m'\\W+'\u001b[0m\u001b[0;34m,\u001b[0m\u001b[0;34m''\u001b[0m\u001b[0;34m,\u001b[0m \u001b[0mstring\u001b[0m \u001b[0;34m)\u001b[0m\u001b[0;34m\u001b[0m\u001b[0;34m\u001b[0m\u001b[0m\n\u001b[0m\u001b[1;32m      4\u001b[0m \u001b[0mcleanString\u001b[0m\u001b[0;34m\u001b[0m\u001b[0;34m\u001b[0m\u001b[0m\n",
            "\u001b[0;32m/usr/lib/python3.6/re.py\u001b[0m in \u001b[0;36msub\u001b[0;34m(pattern, repl, string, count, flags)\u001b[0m\n\u001b[1;32m    189\u001b[0m     \u001b[0ma\u001b[0m \u001b[0mcallable\u001b[0m\u001b[0;34m,\u001b[0m \u001b[0mit\u001b[0m\u001b[0;31m'\u001b[0m\u001b[0ms\u001b[0m \u001b[0mpassed\u001b[0m \u001b[0mthe\u001b[0m \u001b[0mmatch\u001b[0m \u001b[0mobject\u001b[0m \u001b[0;32mand\u001b[0m \u001b[0mmust\u001b[0m \u001b[0;32mreturn\u001b[0m\u001b[0;34m\u001b[0m\u001b[0;34m\u001b[0m\u001b[0m\n\u001b[1;32m    190\u001b[0m     a replacement string to be used.\"\"\"\n\u001b[0;32m--> 191\u001b[0;31m     \u001b[0;32mreturn\u001b[0m \u001b[0m_compile\u001b[0m\u001b[0;34m(\u001b[0m\u001b[0mpattern\u001b[0m\u001b[0;34m,\u001b[0m \u001b[0mflags\u001b[0m\u001b[0;34m)\u001b[0m\u001b[0;34m.\u001b[0m\u001b[0msub\u001b[0m\u001b[0;34m(\u001b[0m\u001b[0mrepl\u001b[0m\u001b[0;34m,\u001b[0m \u001b[0mstring\u001b[0m\u001b[0;34m,\u001b[0m \u001b[0mcount\u001b[0m\u001b[0;34m)\u001b[0m\u001b[0;34m\u001b[0m\u001b[0;34m\u001b[0m\u001b[0m\n\u001b[0m\u001b[1;32m    192\u001b[0m \u001b[0;34m\u001b[0m\u001b[0m\n\u001b[1;32m    193\u001b[0m \u001b[0;32mdef\u001b[0m \u001b[0msubn\u001b[0m\u001b[0;34m(\u001b[0m\u001b[0mpattern\u001b[0m\u001b[0;34m,\u001b[0m \u001b[0mrepl\u001b[0m\u001b[0;34m,\u001b[0m \u001b[0mstring\u001b[0m\u001b[0;34m,\u001b[0m \u001b[0mcount\u001b[0m\u001b[0;34m=\u001b[0m\u001b[0;36m0\u001b[0m\u001b[0;34m,\u001b[0m \u001b[0mflags\u001b[0m\u001b[0;34m=\u001b[0m\u001b[0;36m0\u001b[0m\u001b[0;34m)\u001b[0m\u001b[0;34m:\u001b[0m\u001b[0;34m\u001b[0m\u001b[0;34m\u001b[0m\u001b[0m\n",
            "\u001b[0;31mTypeError\u001b[0m: expected string or bytes-like object"
          ]
        }
      ]
    },
    {
      "cell_type": "code",
      "metadata": {
        "id": "3CkuCF3naUos",
        "colab_type": "code",
        "colab": {}
      },
      "source": [
        "# corp_tweet.iloc[0,:]\n",
        "for i in enumerate(corp_tweet.iloc[:,0]):\n",
        "    print(i)\n",
        "# for i in enumerate(corp_tweet.iloc[:,0]):\n",
        "#     print(i)\n",
        "# corp_tweet.iloc[:,0]"
      ],
      "execution_count": null,
      "outputs": []
    },
    {
      "cell_type": "code",
      "metadata": {
        "id": "N8fuRMzHfVqt",
        "colab_type": "code",
        "colab": {
          "base_uri": "https://localhost:8080/",
          "height": 164
        },
        "outputId": "9502e2ee-d23b-43e5-9e7e-43ca79694b43"
      },
      "source": [
        "for i in enumerate(corp_tweet.iloc[0,0].split()):\n",
        "    new = re.sub('\\W+','', i))"
      ],
      "execution_count": null,
      "outputs": [
        {
          "output_type": "stream",
          "text": [
            "Nu\n",
            "gan\n",
            "laiks\n",
            "gulÄt\n",
            "\n",
            "Laines\n",
            "mÄtne\n",
            "httptcoXuuFZ1T5sc\n"
          ],
          "name": "stdout"
        }
      ]
    },
    {
      "cell_type": "code",
      "metadata": {
        "id": "dJ7_2iQ9gt5q",
        "colab_type": "code",
        "colab": {}
      },
      "source": [
        "corp_tweet_cl = corp_tweet.copy()\n",
        "for i in enumerate(corp_tweet.iloc[:,0]):\n",
        "    corp_tweet_cl[i[0]] = re.sub('\\W+','', i[1])\n",
        "corp_tweet_cl.head()"
      ],
      "execution_count": null,
      "outputs": []
    },
    {
      "cell_type": "code",
      "metadata": {
        "id": "Y4oWxyxERj-a",
        "colab_type": "code",
        "colab": {
          "base_uri": "https://localhost:8080/",
          "height": 206
        },
        "outputId": "9add9888-8abe-4868-a812-6ca50690bbd8"
      },
      "source": [
        "corp_tweet_cl = corp_tweet.copy()\n",
        "for i in enumerate(corp_tweet.iloc[:,0]):\n",
        "    corp_tweet_cl.iloc[i[0], 0] = i[1].replace(\"[comma]\", \"\").lower().replace(\".\", \"\").replace(\"\\n\", \"\").replace(\"'\", \" \").replace(\"-\", \" \").replace(\"/\", \" \").replace(\"?\", \" \").replace(\"(\", \" \").replace(\")\", \" \").strip()     #'!\"#$%&\\'()*+,-./:;<=>?@[\\\\]^_`{|}~'\n",
        "    # corp_tweet_cl[i[0]] = re.sub('\\W+','', i[1])\n",
        "corp_tweet_cl.head()"
      ],
      "execution_count": null,
      "outputs": [
        {
          "output_type": "execute_result",
          "data": {
            "text/html": [
              "<div>\n",
              "<style scoped>\n",
              "    .dataframe tbody tr th:only-of-type {\n",
              "        vertical-align: middle;\n",
              "    }\n",
              "\n",
              "    .dataframe tbody tr th {\n",
              "        vertical-align: top;\n",
              "    }\n",
              "\n",
              "    .dataframe thead th {\n",
              "        text-align: right;\n",
              "    }\n",
              "</style>\n",
              "<table border=\"1\" class=\"dataframe\">\n",
              "  <thead>\n",
              "    <tr style=\"text-align: right;\">\n",
              "      <th></th>\n",
              "      <th>text</th>\n",
              "      <th>sentiment</th>\n",
              "    </tr>\n",
              "  </thead>\n",
              "  <tbody>\n",
              "    <tr>\n",
              "      <th>0</th>\n",
              "      <td>nu gan laiks gulät  @ laines mä«tne  http:  t...</td>\n",
              "      <td>NEU</td>\n",
              "    </tr>\n",
              "    <tr>\n",
              "      <th>1</th>\n",
              "      <td>ja jau neko, nekas neizpalä«dz, tad jau jädod...</td>\n",
              "      <td>NEG</td>\n",
              "    </tr>\n",
              "    <tr>\n",
              "      <th>2</th>\n",
              "      <td>es esmu tik å”ausmä«gi dusmä«ga uz to ka savus...</td>\n",
              "      <td>NEG</td>\n",
              "    </tr>\n",
              "    <tr>\n",
              "      <th>3</th>\n",
              "      <td>å”ovakar cirks ar sotiem bija räcä«gs ;d:d di...</td>\n",
              "      <td>POZ</td>\n",
              "    </tr>\n",
              "    <tr>\n",
              "      <th>4</th>\n",
              "      <td>ä¼oti bädä«gi palika</td>\n",
              "      <td>NEG</td>\n",
              "    </tr>\n",
              "  </tbody>\n",
              "</table>\n",
              "</div>"
            ],
            "text/plain": [
              "                                                text sentiment\n",
              "0  nu gan laiks gulät  @ laines mä«tne  http:  t...       NEU\n",
              "1  ja jau neko, nekas neizpalä«dz, tad jau jädod...       NEG\n",
              "2  es esmu tik å”ausmä«gi dusmä«ga uz to ka savus...       NEG\n",
              "3  å”ovakar cirks ar sotiem bija räcä«gs ;d:d di...       POZ\n",
              "4                              ä¼oti bädä«gi palika       NEG"
            ]
          },
          "metadata": {
            "tags": []
          },
          "execution_count": 95
        }
      ]
    },
    {
      "cell_type": "code",
      "metadata": {
        "id": "ubk0y3Ao5LqV",
        "colab_type": "code",
        "colab": {}
      },
      "source": [
        ""
      ],
      "execution_count": null,
      "outputs": []
    },
    {
      "cell_type": "code",
      "metadata": {
        "id": "AqXLXEET5LtN",
        "colab_type": "code",
        "colab": {}
      },
      "source": [
        ""
      ],
      "execution_count": null,
      "outputs": []
    },
    {
      "cell_type": "code",
      "metadata": {
        "id": "EZ5Zujse5LyE",
        "colab_type": "code",
        "colab": {}
      },
      "source": [
        ""
      ],
      "execution_count": null,
      "outputs": []
    },
    {
      "cell_type": "code",
      "metadata": {
        "id": "GAxBiG1b5L3J",
        "colab_type": "code",
        "colab": {}
      },
      "source": [
        ""
      ],
      "execution_count": null,
      "outputs": []
    },
    {
      "cell_type": "code",
      "metadata": {
        "id": "pzBaNsAO5L8N",
        "colab_type": "code",
        "colab": {}
      },
      "source": [
        ""
      ],
      "execution_count": null,
      "outputs": []
    },
    {
      "cell_type": "code",
      "metadata": {
        "id": "Gfg4L3-K5L6B",
        "colab_type": "code",
        "colab": {}
      },
      "source": [
        ""
      ],
      "execution_count": null,
      "outputs": []
    },
    {
      "cell_type": "code",
      "metadata": {
        "id": "XbG4EUmo5L0z",
        "colab_type": "code",
        "colab": {}
      },
      "source": [
        ""
      ],
      "execution_count": null,
      "outputs": []
    },
    {
      "cell_type": "code",
      "metadata": {
        "id": "mYwdIkwo5Lv8",
        "colab_type": "code",
        "colab": {}
      },
      "source": [
        ""
      ],
      "execution_count": null,
      "outputs": []
    },
    {
      "cell_type": "markdown",
      "metadata": {
        "id": "SVghlRP-Rkv0",
        "colab_type": "text"
      },
      "source": [
        "### Removing stopwords"
      ]
    },
    {
      "cell_type": "code",
      "metadata": {
        "id": "9OVb_QC9XEYC",
        "colab_type": "code",
        "colab": {
          "base_uri": "https://localhost:8080/",
          "height": 206
        },
        "outputId": "a6cca6cf-1422-429b-f433-7ccfc5b74de6"
      },
      "source": [
        "stop_words = pd.read_json('/content/drive/My Drive/BALTA/Sentiment/lv stopwords.json', orient=\"str\", encoding=\"ISO-8859-13\")\n",
        "stop_words.head()"
      ],
      "execution_count": null,
      "outputs": [
        {
          "output_type": "execute_result",
          "data": {
            "text/html": [
              "<div>\n",
              "<style scoped>\n",
              "    .dataframe tbody tr th:only-of-type {\n",
              "        vertical-align: middle;\n",
              "    }\n",
              "\n",
              "    .dataframe tbody tr th {\n",
              "        vertical-align: top;\n",
              "    }\n",
              "\n",
              "    .dataframe thead th {\n",
              "        text-align: right;\n",
              "    }\n",
              "</style>\n",
              "<table border=\"1\" class=\"dataframe\">\n",
              "  <thead>\n",
              "    <tr style=\"text-align: right;\">\n",
              "      <th></th>\n",
              "      <th>words</th>\n",
              "    </tr>\n",
              "  </thead>\n",
              "  <tbody>\n",
              "    <tr>\n",
              "      <th>0</th>\n",
              "      <td>aiz</td>\n",
              "    </tr>\n",
              "    <tr>\n",
              "      <th>1</th>\n",
              "      <td>ap</td>\n",
              "    </tr>\n",
              "    <tr>\n",
              "      <th>2</th>\n",
              "      <td>ar</td>\n",
              "    </tr>\n",
              "    <tr>\n",
              "      <th>3</th>\n",
              "      <td>apakÅ”</td>\n",
              "    </tr>\n",
              "    <tr>\n",
              "      <th>4</th>\n",
              "      <td>Ärpus</td>\n",
              "    </tr>\n",
              "  </tbody>\n",
              "</table>\n",
              "</div>"
            ],
            "text/plain": [
              "    words\n",
              "0     aiz\n",
              "1      ap\n",
              "2      ar\n",
              "3  apakÅ”\n",
              "4  Ärpus"
            ]
          },
          "metadata": {
            "tags": []
          },
          "execution_count": 41
        }
      ]
    },
    {
      "cell_type": "code",
      "metadata": {
        "id": "G9fhcKiIQXHc",
        "colab_type": "code",
        "colab": {}
      },
      "source": [
        "from nltk.stem import PorterStemmer\n",
        "from nltk.stem import LancasterStemmer\n",
        "porter = PorterStemmer()\n",
        "lancaster=LancasterStemmer()"
      ],
      "execution_count": null,
      "outputs": []
    },
    {
      "cell_type": "code",
      "metadata": {
        "id": "fXwCglGPXEam",
        "colab_type": "code",
        "colab": {
          "base_uri": "https://localhost:8080/",
          "height": 698
        },
        "outputId": "f274fd11-fc8c-495f-ff12-f8b9291decc4"
      },
      "source": [
        "def filter_stop_words(train_sentences, stop_words):\n",
        "    for i, sentence in enumerate(train_sentences):\n",
        "        #a = enumerate(train_sentences)\n",
        "        #print(list(a))\n",
        "        #print('sentence is:', i, sentence)\n",
        "        new_sent = [lancaster.stem(word) for word in sentence.split() if word not in stop_words]\n",
        "        print(new_sent)\n",
        "        train_sentences[i] = ' '.join(new_sent)\n",
        "    return train_sentences\n",
        "\n",
        "\n",
        "print(\"Shape of Tweet Corpus:\", corp_tweet.shape)\n",
        "print('corpus.iloc[2:10] is:\\n', corp_tweet.iloc[:10])\n",
        "print()\n",
        "corpus_no_stops = filter_stop_words(corp_tweet.iloc[:10, 0], stop_words)\n",
        "print('\\ncorpus_no_stops.iloc[:10]:', corpus_no_stops)"
      ],
      "execution_count": null,
      "outputs": [
        {
          "output_type": "stream",
          "text": [
            "Shape of Tweet Corpus: (1176, 2)\n",
            "corpus.iloc[2:10] is:\n",
            "                                                 text sentiment\n",
            "0  nu gan laik gulät (@ lain mä«tne) http://t.co...       NEU\n",
            "1  ja jau neko, neka neizpalä«dz, tad jau jädoda...       NEG\n",
            "2  es esmu tik å”ausmä«gi dusmä«ga uz to ka sav m...       NEG\n",
            "3  å”ovakar cirk ar sotiem bij räcä«gs ;d:d diem...       POZ\n",
            "4                             ä¼oti bädä«gi palik .       NEG\n",
            "5  paldy par forå”o ballä«ti å”odien!;) (@ meitu ...       POZ\n",
            "6  ir 05:09 un es svinu väl jo projäm.mans sapn...       POZ\n",
            "7  ä»oti lab pavadä«ju laiku ar @sweetmadaa ulfu ...       POZ\n",
            "8                                            labrä«t       NEU\n",
            "9  eju uzpipet, un tad lkm guleet ja jau vis paru...       NEU\n",
            "\n",
            "['nu', 'gan', 'laik', 'gulä\\x93t', '(@', 'lain', 'mä«tne)', 'http://t.co/xuufz1t5sc']\n",
            "['ja', 'jau', 'neko,', 'nek', 'neizpalä«dz,', 'tad', 'jau', 'jä\\x81dodas', 'mä\\x81jup!', ':(', '#goodfriends']\n",
            "['es', 'esmu', 'tik', 'å”ausmä«gi', 'dusmä«ga', 'uz', 'to', 'ka', 'sav', 'mä\\x81jas', 'darb', 'kur', 'pildu', 'visu', 'nakt', 'izmä\\x93tä\\x81ju', 'un', 'pä\\x93c', 'tam', 'kä\\x81ds', 'izmet', 'ä\\x81ra,', 'un', 'man', 'jä\\x81pilda', 'velreiz!']\n",
            "['å”ovakar', 'cirk', 'ar', 'sotiem', 'bij', 'rä\\x93cä«gs', ';d:d', 'diemå¾el', 'man', 'gadä«jä\\x81s', 'uzkä\\x81pt', 'uz', 'tiem', 'lauciå\\x86iem', 'kur', 'nek', 'nebid', 'jä\\x81dara,', 'pä\\x81rä\\x93jiem', 'gan', 'neveicä\\x81s', ';d']\n",
            "['ä¼oti', 'bä\\x93dä«gi', 'palik', '.']\n",
            "['paldy', 'par', 'forå”o', 'ballä«ti', 'å”odien!;)', '(@', 'meitu', 'mä\\x81ja)', 'http://t.co/1u3ooztxj3']\n",
            "['ir', '05:09', 'un', 'es', 'svinu', 'vä\\x93l', 'jo', 'projä\\x81m.mans', 'sapn', 'piepildä«jä\\x81s', 'nakt', 'laikä\\x81', 'braukä\\x81ju', 'pa', 'rä«gu.:))']\n",
            "['ä»oti', 'lab', 'pavadä«ju', 'laiku', 'ar', '@sweetmadaa', 'ulfu', 'un', 'valtu.tgd', 'esmu', 'godam', 'nosvinä\\x93jusi', 'savu', 'dzimå”anas', 'dienu.bet', 'tas', 'ir', 'tik', 'sä\\x81kums', ':p']\n",
            "['labrä«t']\n",
            "['eju', 'uzpipet,', 'un', 'tad', 'lkm', 'guleet', 'ja', 'jau', 'vis', 'parubijushies,tad', 'man', 'jau', 'nav', 'ko', 'citu', 'dariit.jaapagulj', 'man', 'arii,la', 'riit', 'speek', ';d', ':)', '2km-mols.']\n",
            "\n",
            "corpus_no_stops.iloc[:10]: 0    nu gan laik gulät (@ lain mä«tne) http://t.co...\n",
            "1    ja jau neko, nek neizpalä«dz, tad jau jädodas...\n",
            "2    es esmu tik å”ausmä«gi dusmä«ga uz to ka sav m...\n",
            "3    å”ovakar cirk ar sotiem bij räcä«gs ;d:d diem...\n",
            "4                               ä¼oti bädä«gi palik .\n",
            "5    paldy par forå”o ballä«ti å”odien!;) (@ meitu ...\n",
            "6    ir 05:09 un es svinu väl jo projäm.mans sapn...\n",
            "7    ä»oti lab pavadä«ju laiku ar @sweetmadaa ulfu ...\n",
            "8                                              labrä«t\n",
            "9    eju uzpipet, un tad lkm guleet ja jau vis paru...\n",
            "Name: text, dtype: object\n"
          ],
          "name": "stdout"
        }
      ]
    },
    {
      "cell_type": "code",
      "metadata": {
        "id": "7O8esLlqWVM8",
        "colab_type": "code",
        "colab": {}
      },
      "source": [
        ""
      ],
      "execution_count": null,
      "outputs": []
    }
  ]
}